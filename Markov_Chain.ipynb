{
  "nbformat": 4,
  "nbformat_minor": 0,
  "metadata": {
    "colab": {
      "provenance": [],
      "authorship_tag": "ABX9TyP7q0wCINA39xd3ob8bcU4K"
    },
    "kernelspec": {
      "name": "python3",
      "display_name": "Python 3"
    },
    "language_info": {
      "name": "python"
    }
  },
  "cells": [
    {
      "cell_type": "code",
      "execution_count": null,
      "metadata": {
        "id": "i0OND28NB6DL"
      },
      "outputs": [],
      "source": [
        "# Generate the lookup table\n",
        "def generateTable(data, k):\n",
        "  T={}\n",
        "  for i in range(len(data)-k):\n",
        "    X = data[i:i+k]\n",
        "    Y = data[i+k]\n",
        "\n",
        "    if T.get(X) is None:\n",
        "      T[X] = {}\n",
        "      T[X][Y] = 1\n",
        "    else:\n",
        "      if T[X].get(Y) is None:\n",
        "        T[X][Y] = 1\n",
        "      else:\n",
        "        T[X][Y] += 1\n",
        "  return T\n",
        "\n",
        "# T = generateTable(\"hello hello helli\")\n",
        "# print(T)"
      ]
    },
    {
      "cell_type": "code",
      "source": [
        "# Convert frequencies into probablilities\n",
        "def convertFreqIntoProb(T):\n",
        "  for kx in T.keys():\n",
        "    s = float(sum(T[kx].values()))\n",
        "    for k in T[kx].keys():\n",
        "      T[kx][k] = T[kx][k]/s\n",
        "  return T\n",
        "\n",
        "# freq=convertFreqIntoProb(T)\n",
        "# print(freq)"
      ],
      "metadata": {
        "id": "v1mRaOVpCuQw"
      },
      "execution_count": null,
      "outputs": []
    },
    {
      "cell_type": "code",
      "source": [
        "# Load the dataset\n",
        "\n",
        "# text_path = \"train_corpus.txt\"\n",
        "text_path = \"text_generation_assignment_song.txt\"\n",
        "def load_text(filename):\n",
        "  with open(filename, encoding='utf8') as f:\n",
        "    return f.read().lower()\n",
        "text = load_text(text_path)\n",
        "text = text.replace(\"\\n\", \" \")\n"
      ],
      "metadata": {
        "id": "Jkh7XL7SDzNI"
      },
      "execution_count": null,
      "outputs": []
    },
    {
      "cell_type": "code",
      "source": [
        "# Build the Markov chains\n",
        "def MarkovChain(text, k=4):\n",
        "  T = generateTable(text, k)\n",
        "  T = convertFreqIntoProb(T)\n",
        "  return T\n",
        "\n",
        "model = MarkovChain(text)\n",
        "# print(model)"
      ],
      "metadata": {
        "id": "IDLpU5b5ESBE"
      },
      "execution_count": null,
      "outputs": []
    },
    {
      "cell_type": "code",
      "source": [
        "import numpy as np\n",
        "\n",
        "# Sampling the text\n",
        "def sample_next(ctx, model, k):\n",
        "  ctx = ctx[-k:]\n",
        "  if model.get(ctx) is None:\n",
        "    return \" \"\n",
        "  possible_chars = list(model[ctx].keys())\n",
        "  possible_values = list(model[ctx].values())\n",
        "\n",
        "  # print(possible_chars)\n",
        "  # print(possible_values)\n",
        "\n",
        "  return np.random.choice(possible_chars, p=possible_values)\n",
        "\n",
        "# sample_next(\"commo\",model,4)"
      ],
      "metadata": {
        "id": "4L8gQPpSHKo7"
      },
      "execution_count": null,
      "outputs": []
    },
    {
      "cell_type": "code",
      "source": [
        "# Generate the text\n",
        "\n",
        "def generateText(starting_sent, k=4, maxLen=1000):\n",
        "  sentence = starting_sent\n",
        "  ctx=starting_sent[-k:]\n",
        "\n",
        "  for ix in range(maxLen):\n",
        "    next_prediction = sample_next(ctx, model, k)\n",
        "    sentence += next_prediction\n",
        "    # print(sentence)\n",
        "    ctx = sentence[-k:]\n",
        "    # print(ctx)\n",
        "  return sentence"
      ],
      "metadata": {
        "id": "0Qh8OXyeI3zh"
      },
      "execution_count": null,
      "outputs": []
    },
    {
      "cell_type": "code",
      "source": [
        "text = generateText(\"apna time aaega\", k=4, maxLen=1000)\n",
        "print(text)"
      ],
      "metadata": {
        "colab": {
          "base_uri": "https://localhost:8080/"
        },
        "id": "FFBbm_J3Jy4G",
        "outputId": "06b7ac47-230a-4a5a-fd1d-2046bb99d031"
      },
      "execution_count": null,
      "outputs": [
        {
          "output_type": "stream",
          "name": "stdout",
          "text": [
            "apna time aaega apna time aayega uthayega apna time aaya hai, amaana ab khauf nahi harkat di hai zaroorat ne hi barkat ki hard’ch nahi hai shohrat ki mohobbat ki, ibaadat ki hai kya ghanta lekar jaayega apna toone boya hai   iss harkat ne hi barkat di harkat ki ab talaash mein   kyon kyon ki adalat yahaanat ki aasman bhi satayega   yeh hairat kismat mein har raakh se main jitni taakat ki, ibaadat ki apna time aayega jitna hi barkat ki mehnat ki jeetne ki aur jurrat ne hi to aayega apna time aayega   yeh shabdon ka jwala tu dafnayega apni rehmat mein hai kyon kyon ka jwala tujhe na mil payega apna toone boya hai kya ghanta lekar..   kyon kyon kyon kyon ki aur jurrat yahaan parwaaz dekh parwaaz dekh par yahaan marzi ki hai kyon ki himaakat ne hi to aayega aayega   yeh hai phir bhi ladka sehmat mein hai kya ghanta lekar jaayega   tu nanga hi to aayega zinda mere bhai kya ghanta lekar jaayega apna time aayega mere bhai zaroorat ki mohobbat ki, ibaadat ki, ibaadat kissi ka hai tu nanga hi tha sar parwane \n"
          ]
        }
      ]
    }
  ]
}