{
  "nbformat": 4,
  "nbformat_minor": 0,
  "metadata": {
    "colab": {
      "provenance": [],
      "authorship_tag": "ABX9TyORYk8o5le+ZiTFmLbtJWKG"
    },
    "kernelspec": {
      "name": "python3",
      "display_name": "Python 3"
    },
    "language_info": {
      "name": "python"
    }
  },
  "cells": [
    {
      "cell_type": "code",
      "execution_count": 2,
      "metadata": {
        "colab": {
          "base_uri": "https://localhost:8080/"
        },
        "id": "kXaatspmtt8s",
        "outputId": "24ab66d9-67c8-46ea-a1f2-ed929176ef6a"
      },
      "outputs": [
        {
          "output_type": "stream",
          "name": "stdout",
          "text": [
            "Downloading from https://www.kaggle.com/api/v1/datasets/download/leadbest/googlenewsvectorsnegative300?dataset_version_number=2...\n"
          ]
        },
        {
          "output_type": "stream",
          "name": "stderr",
          "text": [
            "100%|██████████| 3.17G/3.17G [00:25<00:00, 134MB/s] "
          ]
        },
        {
          "output_type": "stream",
          "name": "stdout",
          "text": [
            "Extracting files...\n"
          ]
        },
        {
          "output_type": "stream",
          "name": "stderr",
          "text": [
            "\n"
          ]
        },
        {
          "output_type": "stream",
          "name": "stdout",
          "text": [
            "Path to dataset files: /root/.cache/kagglehub/datasets/leadbest/googlenewsvectorsnegative300/versions/2\n"
          ]
        }
      ],
      "source": [
        "import kagglehub\n",
        "\n",
        "# Download latest version\n",
        "path = kagglehub.dataset_download(\"leadbest/googlenewsvectorsnegative300\")\n",
        "\n",
        "print(\"Path to dataset files:\", path)"
      ]
    },
    {
      "cell_type": "code",
      "source": [
        "ls /root/.cache/kagglehub/datasets/leadbest/googlenewsvectorsnegative300/versions/2/"
      ],
      "metadata": {
        "colab": {
          "base_uri": "https://localhost:8080/"
        },
        "id": "woZrEfq4w8-g",
        "outputId": "91175682-e41a-4b33-fb98-cf633fa750cc"
      },
      "execution_count": 9,
      "outputs": [
        {
          "output_type": "stream",
          "name": "stdout",
          "text": [
            "GoogleNews-vectors-negative300.bin  GoogleNews-vectors-negative300.bin.gz\n"
          ]
        }
      ]
    },
    {
      "cell_type": "code",
      "source": [
        "from gensim.models import KeyedVectors\n",
        "from sklearn.metrics.pairwise import cosine_similarity"
      ],
      "metadata": {
        "id": "46opLFDEvgVg"
      },
      "execution_count": 3,
      "outputs": []
    },
    {
      "cell_type": "code",
      "source": [
        "word_vectors = KeyedVectors.load_word2vec_format('/root/.cache/kagglehub/datasets/leadbest/googlenewsvectorsnegative300/versions/2/GoogleNews-vectors-negative300.bin.gz', binary=True)\n",
        "\n",
        "v_banana = word_vectors['banana']\n",
        "v_mango = word_vectors['mango']\n",
        "\n",
        "cosine_similarity([v_banana], [v_mango])"
      ],
      "metadata": {
        "id": "vqbVacGQwCeK"
      },
      "execution_count": null,
      "outputs": []
    },
    {
      "cell_type": "code",
      "source": [
        "import numpy as np\n",
        "\n",
        "def odd_one_out(words, word_vectors):\n",
        "  all_word_vectors = [word_vectors[w] for w in words]\n",
        "  avg_vector = np.mean(all_word_vectors, axis=0)\n",
        "  odd_one_out = None\n",
        "  min_sim = 1.0\n",
        "\n",
        "  for w in words:\n",
        "    sim = cosine_similarity([word_vectors[w]], [avg_vector])\n",
        "    if sim < min_sim:\n",
        "      min_sim = sim\n",
        "      odd_one_out = w\n",
        "\n",
        "  return odd_one_out"
      ],
      "metadata": {
        "id": "NFjGp7dEzSNi"
      },
      "execution_count": 14,
      "outputs": []
    },
    {
      "cell_type": "code",
      "source": [
        "list_of_words = [\"apple\", \"mango\", \"banana\", \"cycle\",\"pineapple\", \"juice\", \"party\"]\n",
        "print(odd_one_out(list_of_words, word_vectors))"
      ],
      "metadata": {
        "colab": {
          "base_uri": "https://localhost:8080/"
        },
        "id": "6wN3NbMtz6oF",
        "outputId": "7b05f6a0-c9b8-4485-8fe6-ffa6dea14e6d"
      },
      "execution_count": 16,
      "outputs": [
        {
          "output_type": "stream",
          "name": "stdout",
          "text": [
            "cycle\n"
          ]
        }
      ]
    },
    {
      "cell_type": "code",
      "source": [
        "def word_analogies(A,B,C,word_vectors):\n",
        "  A,B,C = A.lower(), B.lower(), C.lower()\n",
        "  max_sim = -100\n",
        "  D = None\n",
        "  words = word_vectors.key_to_index.keys()\n",
        "  WA,WB,WC = word_vectors[A], word_vectors[B], word_vectors[C]\n",
        "\n",
        "  for w in words:\n",
        "    if w in [A,B,C]:\n",
        "      continue\n",
        "    w_vector = word_vectors[w]\n",
        "    sim = cosine_similarity([WB-WA], [w_vector - WC])\n",
        "    if sim > max_sim:\n",
        "      max_sim = sim\n",
        "      D = w\n",
        "  return D"
      ],
      "metadata": {
        "id": "Oe_rRQ7D50Qx"
      },
      "execution_count": 19,
      "outputs": []
    },
    {
      "cell_type": "code",
      "source": [
        "print(word_analogies(\"Man\",\"Woman\",\"King\", word_vectors))"
      ],
      "metadata": {
        "colab": {
          "base_uri": "https://localhost:8080/"
        },
        "id": "LGZO9huT6m0l",
        "outputId": "d3b63885-6cbf-4968-821b-5d1863a653c3"
      },
      "execution_count": 20,
      "outputs": [
        {
          "output_type": "stream",
          "name": "stdout",
          "text": [
            "queen\n"
          ]
        }
      ]
    }
  ]
}